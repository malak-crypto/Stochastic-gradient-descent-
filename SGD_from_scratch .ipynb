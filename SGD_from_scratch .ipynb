{
 "cells": [
  {
   "cell_type": "code",
   "execution_count": 229,
   "id": "f5b7e844",
   "metadata": {},
   "outputs": [],
   "source": [
    "import numpy as np\n",
    "import math  as mth"
   ]
  },
  {
   "cell_type": "code",
   "execution_count": 230,
   "id": "6a1b5300",
   "metadata": {},
   "outputs": [
    {
     "name": "stdout",
     "output_type": "stream",
     "text": [
      "[[1, 1], [1, 0], [0, 1], [0, 0]]\n",
      "[1, 0, 0, 0]\n"
     ]
    }
   ],
   "source": [
    "#array of inputs and outputs \n",
    "#used in training and prediction \n",
    "inputs = [[1,1], \n",
    "          [1,0], \n",
    "          [0,1], \n",
    "          [0,0]]\n",
    "\n",
    "outputs = [1,\n",
    "           0,\n",
    "           0,\n",
    "           0]\n",
    "print(inputs)\n",
    "print(outputs)"
   ]
  },
  {
   "cell_type": "code",
   "execution_count": 231,
   "id": "0d1ecc28",
   "metadata": {},
   "outputs": [],
   "source": [
    "class SGD_Perceptron :\n",
    "    # initializing the perceptron \n",
    "    def __init__(self,num_features,iterations=500,learning_rate=0.01):\n",
    "        self.iterations = iterations \n",
    "        self.learning_rate = learning_rate\n",
    "        # np.zeros to initialize with zeros\n",
    "        # +1 because threshold will be considered as an input with weights \n",
    "        self.weights = np.zeros(num_features + 1)\n",
    "        \n",
    "    # prediction function\n",
    "    def predict(self, inputs):\n",
    "        # np.dot to times each input with corresponding weight \n",
    "        # threshold in weight[0] (first place of array)\n",
    "        s_dash = np.dot(inputs, self.weights[1:]) + self.weights[0]\n",
    "        \n",
    "        # sigmoid function \n",
    "        exponent = s_dash*(-1)\n",
    "        # exp is e^exponent\n",
    "        y = 1 / (1 + mth.exp(exponent))\n",
    "        return y\n",
    "        \n",
    "    # training function    \n",
    "    def train(self, training_inputs, labels):\n",
    "        for _ in range(self.iterations):\n",
    "            for inputs, desired in zip(training_inputs, labels): # zip combine values that correspond in 2 arrays \n",
    "                prediction = self.predict(inputs)\n",
    "                # updating weights with maximum cross entropy \n",
    "                self.weights[1:] += self.learning_rate * (desired - prediction) * inputs\n",
    "                # updating threshold \n",
    "                self.weights[0] += self.learning_rate * (desired - prediction) \n",
    "        \n",
    "        print(self.weights)\n",
    "        \n",
    "    "
   ]
  },
  {
   "cell_type": "code",
   "execution_count": 232,
   "id": "e1f07361",
   "metadata": {},
   "outputs": [
    {
     "name": "stdout",
     "output_type": "stream",
     "text": [
      "[[1 1]\n",
      " [1 0]\n",
      " [0 1]\n",
      " [0 0]]\n"
     ]
    }
   ],
   "source": [
    "training_inputs = np.array([[1,1],[1,0],[0,1],[0,0]]) #no builtin array therefore must use np.array()\n",
    "print (training_inputs)"
   ]
  },
  {
   "cell_type": "code",
   "execution_count": 233,
   "id": "5c4323dc",
   "metadata": {},
   "outputs": [
    {
     "name": "stdout",
     "output_type": "stream",
     "text": [
      "[1 0 0 0]\n"
     ]
    }
   ],
   "source": [
    "labels = np.array([1, 0, 0, 0])\n",
    "print (labels)"
   ]
  },
  {
   "cell_type": "code",
   "execution_count": 234,
   "id": "a9900606",
   "metadata": {},
   "outputs": [
    {
     "name": "stdout",
     "output_type": "stream",
     "text": [
      "[-1.92267183  1.01988884  1.02210566]\n"
     ]
    }
   ],
   "source": [
    "P = SGD_Perceptron(2)\n",
    "P.train(training_inputs,labels)"
   ]
  },
  {
   "cell_type": "code",
   "execution_count": 238,
   "id": "6ef397d6",
   "metadata": {},
   "outputs": [
    {
     "name": "stdout",
     "output_type": "stream",
     "text": [
      "Input sample is:  [1 0]\n",
      "Perceptron prediction is (before logical represenation):  0.28847892956077525\n",
      "Perceptron prediction is:  0\n"
     ]
    }
   ],
   "source": [
    "inputs = np.array([1, 0])\n",
    "\n",
    "print(\"Input sample is: \", inputs)\n",
    "\n",
    "print(\"Perceptron prediction is (before logical represenation): \", P.predict(inputs)) \n",
    "\n",
    "#with increased iterations we get closer to 1 or 0 with 10k iterations the predict value (y) was 0.92 for logic 1\n",
    "#and 0.04 for logic 0\n",
    "if (P.predict(inputs)>0.5):\n",
    "    out=1 #to represent the o/p logically sigmoid will never reach perfect 1 or 0 must increase iterations drastically       #\n",
    "else:\n",
    "    out=0\n",
    "\n",
    "print(\"Perceptron prediction is: \", out )"
   ]
  },
  {
   "cell_type": "code",
   "execution_count": null,
   "id": "2839ba4c",
   "metadata": {},
   "outputs": [],
   "source": []
  },
  {
   "cell_type": "code",
   "execution_count": null,
   "id": "8bac6c47",
   "metadata": {},
   "outputs": [],
   "source": []
  },
  {
   "cell_type": "code",
   "execution_count": null,
   "id": "3c4248cc",
   "metadata": {},
   "outputs": [],
   "source": []
  }
 ],
 "metadata": {
  "kernelspec": {
   "display_name": "Python 3.7.8 64-bit",
   "language": "python",
   "name": "python3"
  },
  "language_info": {
   "codemirror_mode": {
    "name": "ipython",
    "version": 3
   },
   "file_extension": ".py",
   "mimetype": "text/x-python",
   "name": "python",
   "nbconvert_exporter": "python",
   "pygments_lexer": "ipython3",
   "version": "3.7.8"
  },
  "vscode": {
   "interpreter": {
    "hash": "c6aeca87e53583627b8b79e4f4da41d10e1acf8a2564923b7f23db1af83b45f2"
   }
  }
 },
 "nbformat": 4,
 "nbformat_minor": 5
}
